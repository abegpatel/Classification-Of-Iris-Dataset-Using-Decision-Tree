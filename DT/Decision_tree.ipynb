{
  "nbformat": 4,
  "nbformat_minor": 0,
  "metadata": {
    "colab": {
      "name": "Decision_tree.ipynb",
      "provenance": [],
      "collapsed_sections": []
    },
    "kernelspec": {
      "name": "python3",
      "display_name": "Python 3"
    }
  },
  "cells": [
    {
      "cell_type": "code",
      "metadata": {
        "id": "F7kh0kWxik6D"
      },
      "source": [
        "import numpy as np\r\n",
        "import pandas as pd\r\n",
        "import matplotlib.pyplot as plt\r\n",
        "import seaborn as sns"
      ],
      "execution_count": 5,
      "outputs": []
    },
    {
      "cell_type": "code",
      "metadata": {
        "id": "5eVI1aHelAV6"
      },
      "source": [
        "df=pd.read_csv(\"/content/iris.csv\")"
      ],
      "execution_count": 6,
      "outputs": []
    },
    {
      "cell_type": "code",
      "metadata": {
        "colab": {
          "base_uri": "https://localhost:8080/",
          "height": 343
        },
        "id": "xH5npEQilASg",
        "outputId": "815bf8a6-847e-4d2b-b0b0-fe79b24bd898"
      },
      "source": [
        "df.head(10)"
      ],
      "execution_count": 7,
      "outputs": [
        {
          "output_type": "execute_result",
          "data": {
            "text/html": [
              "<div>\n",
              "<style scoped>\n",
              "    .dataframe tbody tr th:only-of-type {\n",
              "        vertical-align: middle;\n",
              "    }\n",
              "\n",
              "    .dataframe tbody tr th {\n",
              "        vertical-align: top;\n",
              "    }\n",
              "\n",
              "    .dataframe thead th {\n",
              "        text-align: right;\n",
              "    }\n",
              "</style>\n",
              "<table border=\"1\" class=\"dataframe\">\n",
              "  <thead>\n",
              "    <tr style=\"text-align: right;\">\n",
              "      <th></th>\n",
              "      <th>sepal.length</th>\n",
              "      <th>sepal.width</th>\n",
              "      <th>petal.length</th>\n",
              "      <th>petal.width</th>\n",
              "      <th>variety</th>\n",
              "    </tr>\n",
              "  </thead>\n",
              "  <tbody>\n",
              "    <tr>\n",
              "      <th>0</th>\n",
              "      <td>5.1</td>\n",
              "      <td>3.5</td>\n",
              "      <td>1.4</td>\n",
              "      <td>0.2</td>\n",
              "      <td>Setosa</td>\n",
              "    </tr>\n",
              "    <tr>\n",
              "      <th>1</th>\n",
              "      <td>4.9</td>\n",
              "      <td>3.0</td>\n",
              "      <td>1.4</td>\n",
              "      <td>0.2</td>\n",
              "      <td>Setosa</td>\n",
              "    </tr>\n",
              "    <tr>\n",
              "      <th>2</th>\n",
              "      <td>4.7</td>\n",
              "      <td>3.2</td>\n",
              "      <td>1.3</td>\n",
              "      <td>0.2</td>\n",
              "      <td>Setosa</td>\n",
              "    </tr>\n",
              "    <tr>\n",
              "      <th>3</th>\n",
              "      <td>4.6</td>\n",
              "      <td>3.1</td>\n",
              "      <td>1.5</td>\n",
              "      <td>0.2</td>\n",
              "      <td>Setosa</td>\n",
              "    </tr>\n",
              "    <tr>\n",
              "      <th>4</th>\n",
              "      <td>5.0</td>\n",
              "      <td>3.6</td>\n",
              "      <td>1.4</td>\n",
              "      <td>0.2</td>\n",
              "      <td>Setosa</td>\n",
              "    </tr>\n",
              "    <tr>\n",
              "      <th>5</th>\n",
              "      <td>5.4</td>\n",
              "      <td>3.9</td>\n",
              "      <td>1.7</td>\n",
              "      <td>0.4</td>\n",
              "      <td>Setosa</td>\n",
              "    </tr>\n",
              "    <tr>\n",
              "      <th>6</th>\n",
              "      <td>4.6</td>\n",
              "      <td>3.4</td>\n",
              "      <td>1.4</td>\n",
              "      <td>0.3</td>\n",
              "      <td>Setosa</td>\n",
              "    </tr>\n",
              "    <tr>\n",
              "      <th>7</th>\n",
              "      <td>5.0</td>\n",
              "      <td>3.4</td>\n",
              "      <td>1.5</td>\n",
              "      <td>0.2</td>\n",
              "      <td>Setosa</td>\n",
              "    </tr>\n",
              "    <tr>\n",
              "      <th>8</th>\n",
              "      <td>4.4</td>\n",
              "      <td>2.9</td>\n",
              "      <td>1.4</td>\n",
              "      <td>0.2</td>\n",
              "      <td>Setosa</td>\n",
              "    </tr>\n",
              "    <tr>\n",
              "      <th>9</th>\n",
              "      <td>4.9</td>\n",
              "      <td>3.1</td>\n",
              "      <td>1.5</td>\n",
              "      <td>0.1</td>\n",
              "      <td>Setosa</td>\n",
              "    </tr>\n",
              "  </tbody>\n",
              "</table>\n",
              "</div>"
            ],
            "text/plain": [
              "   sepal.length  sepal.width  petal.length  petal.width variety\n",
              "0           5.1          3.5           1.4          0.2  Setosa\n",
              "1           4.9          3.0           1.4          0.2  Setosa\n",
              "2           4.7          3.2           1.3          0.2  Setosa\n",
              "3           4.6          3.1           1.5          0.2  Setosa\n",
              "4           5.0          3.6           1.4          0.2  Setosa\n",
              "5           5.4          3.9           1.7          0.4  Setosa\n",
              "6           4.6          3.4           1.4          0.3  Setosa\n",
              "7           5.0          3.4           1.5          0.2  Setosa\n",
              "8           4.4          2.9           1.4          0.2  Setosa\n",
              "9           4.9          3.1           1.5          0.1  Setosa"
            ]
          },
          "metadata": {
            "tags": []
          },
          "execution_count": 7
        }
      ]
    },
    {
      "cell_type": "code",
      "metadata": {
        "colab": {
          "base_uri": "https://localhost:8080/",
          "height": 343
        },
        "id": "oDRvtEHjlAP7",
        "outputId": "1b57f85a-1d13-4ef2-b57f-452fc4d201a9"
      },
      "source": [
        "df.tail(10)"
      ],
      "execution_count": 8,
      "outputs": [
        {
          "output_type": "execute_result",
          "data": {
            "text/html": [
              "<div>\n",
              "<style scoped>\n",
              "    .dataframe tbody tr th:only-of-type {\n",
              "        vertical-align: middle;\n",
              "    }\n",
              "\n",
              "    .dataframe tbody tr th {\n",
              "        vertical-align: top;\n",
              "    }\n",
              "\n",
              "    .dataframe thead th {\n",
              "        text-align: right;\n",
              "    }\n",
              "</style>\n",
              "<table border=\"1\" class=\"dataframe\">\n",
              "  <thead>\n",
              "    <tr style=\"text-align: right;\">\n",
              "      <th></th>\n",
              "      <th>sepal.length</th>\n",
              "      <th>sepal.width</th>\n",
              "      <th>petal.length</th>\n",
              "      <th>petal.width</th>\n",
              "      <th>variety</th>\n",
              "    </tr>\n",
              "  </thead>\n",
              "  <tbody>\n",
              "    <tr>\n",
              "      <th>140</th>\n",
              "      <td>6.7</td>\n",
              "      <td>3.1</td>\n",
              "      <td>5.6</td>\n",
              "      <td>2.4</td>\n",
              "      <td>Virginica</td>\n",
              "    </tr>\n",
              "    <tr>\n",
              "      <th>141</th>\n",
              "      <td>6.9</td>\n",
              "      <td>3.1</td>\n",
              "      <td>5.1</td>\n",
              "      <td>2.3</td>\n",
              "      <td>Virginica</td>\n",
              "    </tr>\n",
              "    <tr>\n",
              "      <th>142</th>\n",
              "      <td>5.8</td>\n",
              "      <td>2.7</td>\n",
              "      <td>5.1</td>\n",
              "      <td>1.9</td>\n",
              "      <td>Virginica</td>\n",
              "    </tr>\n",
              "    <tr>\n",
              "      <th>143</th>\n",
              "      <td>6.8</td>\n",
              "      <td>3.2</td>\n",
              "      <td>5.9</td>\n",
              "      <td>2.3</td>\n",
              "      <td>Virginica</td>\n",
              "    </tr>\n",
              "    <tr>\n",
              "      <th>144</th>\n",
              "      <td>6.7</td>\n",
              "      <td>3.3</td>\n",
              "      <td>5.7</td>\n",
              "      <td>2.5</td>\n",
              "      <td>Virginica</td>\n",
              "    </tr>\n",
              "    <tr>\n",
              "      <th>145</th>\n",
              "      <td>6.7</td>\n",
              "      <td>3.0</td>\n",
              "      <td>5.2</td>\n",
              "      <td>2.3</td>\n",
              "      <td>Virginica</td>\n",
              "    </tr>\n",
              "    <tr>\n",
              "      <th>146</th>\n",
              "      <td>6.3</td>\n",
              "      <td>2.5</td>\n",
              "      <td>5.0</td>\n",
              "      <td>1.9</td>\n",
              "      <td>Virginica</td>\n",
              "    </tr>\n",
              "    <tr>\n",
              "      <th>147</th>\n",
              "      <td>6.5</td>\n",
              "      <td>3.0</td>\n",
              "      <td>5.2</td>\n",
              "      <td>2.0</td>\n",
              "      <td>Virginica</td>\n",
              "    </tr>\n",
              "    <tr>\n",
              "      <th>148</th>\n",
              "      <td>6.2</td>\n",
              "      <td>3.4</td>\n",
              "      <td>5.4</td>\n",
              "      <td>2.3</td>\n",
              "      <td>Virginica</td>\n",
              "    </tr>\n",
              "    <tr>\n",
              "      <th>149</th>\n",
              "      <td>5.9</td>\n",
              "      <td>3.0</td>\n",
              "      <td>5.1</td>\n",
              "      <td>1.8</td>\n",
              "      <td>Virginica</td>\n",
              "    </tr>\n",
              "  </tbody>\n",
              "</table>\n",
              "</div>"
            ],
            "text/plain": [
              "     sepal.length  sepal.width  petal.length  petal.width    variety\n",
              "140           6.7          3.1           5.6          2.4  Virginica\n",
              "141           6.9          3.1           5.1          2.3  Virginica\n",
              "142           5.8          2.7           5.1          1.9  Virginica\n",
              "143           6.8          3.2           5.9          2.3  Virginica\n",
              "144           6.7          3.3           5.7          2.5  Virginica\n",
              "145           6.7          3.0           5.2          2.3  Virginica\n",
              "146           6.3          2.5           5.0          1.9  Virginica\n",
              "147           6.5          3.0           5.2          2.0  Virginica\n",
              "148           6.2          3.4           5.4          2.3  Virginica\n",
              "149           5.9          3.0           5.1          1.8  Virginica"
            ]
          },
          "metadata": {
            "tags": []
          },
          "execution_count": 8
        }
      ]
    },
    {
      "cell_type": "code",
      "metadata": {
        "colab": {
          "base_uri": "https://localhost:8080/",
          "height": 284
        },
        "id": "0wWG8sIGlANV",
        "outputId": "2435cbd6-7b02-4144-c032-a34af4202f6e"
      },
      "source": [
        "df.describe()"
      ],
      "execution_count": 9,
      "outputs": [
        {
          "output_type": "execute_result",
          "data": {
            "text/html": [
              "<div>\n",
              "<style scoped>\n",
              "    .dataframe tbody tr th:only-of-type {\n",
              "        vertical-align: middle;\n",
              "    }\n",
              "\n",
              "    .dataframe tbody tr th {\n",
              "        vertical-align: top;\n",
              "    }\n",
              "\n",
              "    .dataframe thead th {\n",
              "        text-align: right;\n",
              "    }\n",
              "</style>\n",
              "<table border=\"1\" class=\"dataframe\">\n",
              "  <thead>\n",
              "    <tr style=\"text-align: right;\">\n",
              "      <th></th>\n",
              "      <th>sepal.length</th>\n",
              "      <th>sepal.width</th>\n",
              "      <th>petal.length</th>\n",
              "      <th>petal.width</th>\n",
              "    </tr>\n",
              "  </thead>\n",
              "  <tbody>\n",
              "    <tr>\n",
              "      <th>count</th>\n",
              "      <td>150.000000</td>\n",
              "      <td>150.000000</td>\n",
              "      <td>150.000000</td>\n",
              "      <td>150.000000</td>\n",
              "    </tr>\n",
              "    <tr>\n",
              "      <th>mean</th>\n",
              "      <td>5.843333</td>\n",
              "      <td>3.057333</td>\n",
              "      <td>3.758000</td>\n",
              "      <td>1.199333</td>\n",
              "    </tr>\n",
              "    <tr>\n",
              "      <th>std</th>\n",
              "      <td>0.828066</td>\n",
              "      <td>0.435866</td>\n",
              "      <td>1.765298</td>\n",
              "      <td>0.762238</td>\n",
              "    </tr>\n",
              "    <tr>\n",
              "      <th>min</th>\n",
              "      <td>4.300000</td>\n",
              "      <td>2.000000</td>\n",
              "      <td>1.000000</td>\n",
              "      <td>0.100000</td>\n",
              "    </tr>\n",
              "    <tr>\n",
              "      <th>25%</th>\n",
              "      <td>5.100000</td>\n",
              "      <td>2.800000</td>\n",
              "      <td>1.600000</td>\n",
              "      <td>0.300000</td>\n",
              "    </tr>\n",
              "    <tr>\n",
              "      <th>50%</th>\n",
              "      <td>5.800000</td>\n",
              "      <td>3.000000</td>\n",
              "      <td>4.350000</td>\n",
              "      <td>1.300000</td>\n",
              "    </tr>\n",
              "    <tr>\n",
              "      <th>75%</th>\n",
              "      <td>6.400000</td>\n",
              "      <td>3.300000</td>\n",
              "      <td>5.100000</td>\n",
              "      <td>1.800000</td>\n",
              "    </tr>\n",
              "    <tr>\n",
              "      <th>max</th>\n",
              "      <td>7.900000</td>\n",
              "      <td>4.400000</td>\n",
              "      <td>6.900000</td>\n",
              "      <td>2.500000</td>\n",
              "    </tr>\n",
              "  </tbody>\n",
              "</table>\n",
              "</div>"
            ],
            "text/plain": [
              "       sepal.length  sepal.width  petal.length  petal.width\n",
              "count    150.000000   150.000000    150.000000   150.000000\n",
              "mean       5.843333     3.057333      3.758000     1.199333\n",
              "std        0.828066     0.435866      1.765298     0.762238\n",
              "min        4.300000     2.000000      1.000000     0.100000\n",
              "25%        5.100000     2.800000      1.600000     0.300000\n",
              "50%        5.800000     3.000000      4.350000     1.300000\n",
              "75%        6.400000     3.300000      5.100000     1.800000\n",
              "max        7.900000     4.400000      6.900000     2.500000"
            ]
          },
          "metadata": {
            "tags": []
          },
          "execution_count": 9
        }
      ]
    },
    {
      "cell_type": "code",
      "metadata": {
        "colab": {
          "base_uri": "https://localhost:8080/"
        },
        "id": "BOTqJD3VlAEs",
        "outputId": "0d215d2f-06e8-435d-bc15-e0b66a27b0d0"
      },
      "source": [
        "df.info()"
      ],
      "execution_count": 10,
      "outputs": [
        {
          "output_type": "stream",
          "text": [
            "<class 'pandas.core.frame.DataFrame'>\n",
            "RangeIndex: 150 entries, 0 to 149\n",
            "Data columns (total 5 columns):\n",
            " #   Column        Non-Null Count  Dtype  \n",
            "---  ------        --------------  -----  \n",
            " 0   sepal.length  150 non-null    float64\n",
            " 1   sepal.width   150 non-null    float64\n",
            " 2   petal.length  150 non-null    float64\n",
            " 3   petal.width   150 non-null    float64\n",
            " 4   variety       150 non-null    object \n",
            "dtypes: float64(4), object(1)\n",
            "memory usage: 6.0+ KB\n"
          ],
          "name": "stdout"
        }
      ]
    },
    {
      "cell_type": "code",
      "metadata": {
        "colab": {
          "base_uri": "https://localhost:8080/",
          "height": 402
        },
        "id": "P0BllBi8lABO",
        "outputId": "1e42bbe2-dbad-4a23-c4aa-0367b4b9a2c7"
      },
      "source": [
        "df.isnull()"
      ],
      "execution_count": 11,
      "outputs": [
        {
          "output_type": "execute_result",
          "data": {
            "text/html": [
              "<div>\n",
              "<style scoped>\n",
              "    .dataframe tbody tr th:only-of-type {\n",
              "        vertical-align: middle;\n",
              "    }\n",
              "\n",
              "    .dataframe tbody tr th {\n",
              "        vertical-align: top;\n",
              "    }\n",
              "\n",
              "    .dataframe thead th {\n",
              "        text-align: right;\n",
              "    }\n",
              "</style>\n",
              "<table border=\"1\" class=\"dataframe\">\n",
              "  <thead>\n",
              "    <tr style=\"text-align: right;\">\n",
              "      <th></th>\n",
              "      <th>sepal.length</th>\n",
              "      <th>sepal.width</th>\n",
              "      <th>petal.length</th>\n",
              "      <th>petal.width</th>\n",
              "      <th>variety</th>\n",
              "    </tr>\n",
              "  </thead>\n",
              "  <tbody>\n",
              "    <tr>\n",
              "      <th>0</th>\n",
              "      <td>False</td>\n",
              "      <td>False</td>\n",
              "      <td>False</td>\n",
              "      <td>False</td>\n",
              "      <td>False</td>\n",
              "    </tr>\n",
              "    <tr>\n",
              "      <th>1</th>\n",
              "      <td>False</td>\n",
              "      <td>False</td>\n",
              "      <td>False</td>\n",
              "      <td>False</td>\n",
              "      <td>False</td>\n",
              "    </tr>\n",
              "    <tr>\n",
              "      <th>2</th>\n",
              "      <td>False</td>\n",
              "      <td>False</td>\n",
              "      <td>False</td>\n",
              "      <td>False</td>\n",
              "      <td>False</td>\n",
              "    </tr>\n",
              "    <tr>\n",
              "      <th>3</th>\n",
              "      <td>False</td>\n",
              "      <td>False</td>\n",
              "      <td>False</td>\n",
              "      <td>False</td>\n",
              "      <td>False</td>\n",
              "    </tr>\n",
              "    <tr>\n",
              "      <th>4</th>\n",
              "      <td>False</td>\n",
              "      <td>False</td>\n",
              "      <td>False</td>\n",
              "      <td>False</td>\n",
              "      <td>False</td>\n",
              "    </tr>\n",
              "    <tr>\n",
              "      <th>...</th>\n",
              "      <td>...</td>\n",
              "      <td>...</td>\n",
              "      <td>...</td>\n",
              "      <td>...</td>\n",
              "      <td>...</td>\n",
              "    </tr>\n",
              "    <tr>\n",
              "      <th>145</th>\n",
              "      <td>False</td>\n",
              "      <td>False</td>\n",
              "      <td>False</td>\n",
              "      <td>False</td>\n",
              "      <td>False</td>\n",
              "    </tr>\n",
              "    <tr>\n",
              "      <th>146</th>\n",
              "      <td>False</td>\n",
              "      <td>False</td>\n",
              "      <td>False</td>\n",
              "      <td>False</td>\n",
              "      <td>False</td>\n",
              "    </tr>\n",
              "    <tr>\n",
              "      <th>147</th>\n",
              "      <td>False</td>\n",
              "      <td>False</td>\n",
              "      <td>False</td>\n",
              "      <td>False</td>\n",
              "      <td>False</td>\n",
              "    </tr>\n",
              "    <tr>\n",
              "      <th>148</th>\n",
              "      <td>False</td>\n",
              "      <td>False</td>\n",
              "      <td>False</td>\n",
              "      <td>False</td>\n",
              "      <td>False</td>\n",
              "    </tr>\n",
              "    <tr>\n",
              "      <th>149</th>\n",
              "      <td>False</td>\n",
              "      <td>False</td>\n",
              "      <td>False</td>\n",
              "      <td>False</td>\n",
              "      <td>False</td>\n",
              "    </tr>\n",
              "  </tbody>\n",
              "</table>\n",
              "<p>150 rows × 5 columns</p>\n",
              "</div>"
            ],
            "text/plain": [
              "     sepal.length  sepal.width  petal.length  petal.width  variety\n",
              "0           False        False         False        False    False\n",
              "1           False        False         False        False    False\n",
              "2           False        False         False        False    False\n",
              "3           False        False         False        False    False\n",
              "4           False        False         False        False    False\n",
              "..            ...          ...           ...          ...      ...\n",
              "145         False        False         False        False    False\n",
              "146         False        False         False        False    False\n",
              "147         False        False         False        False    False\n",
              "148         False        False         False        False    False\n",
              "149         False        False         False        False    False\n",
              "\n",
              "[150 rows x 5 columns]"
            ]
          },
          "metadata": {
            "tags": []
          },
          "execution_count": 11
        }
      ]
    },
    {
      "cell_type": "code",
      "metadata": {
        "colab": {
          "base_uri": "https://localhost:8080/"
        },
        "id": "ihlchSgqk__a",
        "outputId": "f7f7f389-3e68-4c4d-9164-02a016a131d2"
      },
      "source": [
        "df.isna().sum()"
      ],
      "execution_count": 12,
      "outputs": [
        {
          "output_type": "execute_result",
          "data": {
            "text/plain": [
              "sepal.length    0\n",
              "sepal.width     0\n",
              "petal.length    0\n",
              "petal.width     0\n",
              "variety         0\n",
              "dtype: int64"
            ]
          },
          "metadata": {
            "tags": []
          },
          "execution_count": 12
        }
      ]
    },
    {
      "cell_type": "code",
      "metadata": {
        "id": "dR32cXICIQkU"
      },
      "source": [
        "X = df.iloc[:,0:4].values\r\n",
        "y = df.iloc[:, -1].values\r\n"
      ],
      "execution_count": 13,
      "outputs": []
    },
    {
      "cell_type": "code",
      "metadata": {
        "id": "7KU8g2JaKaC9"
      },
      "source": [
        "# Splitting the dataset into the Training set and Test set\r\n",
        "from sklearn.model_selection import train_test_split\r\n",
        "X_train, X_test, y_train, y_test = train_test_split(X, y, test_size = 0.25, random_state = 0)\r\n",
        "\r\n",
        "# Feature Scaling\r\n",
        "from sklearn.preprocessing import StandardScaler\r\n",
        "sc = StandardScaler()\r\n",
        "X_train = sc.fit_transform(X_train)\r\n",
        "X_test = sc.transform(X_test)"
      ],
      "execution_count": 14,
      "outputs": []
    },
    {
      "cell_type": "code",
      "metadata": {
        "id": "17IXAbRqQNOh"
      },
      "source": [
        "feature_cols = ['sepal.length','sepal.width','petal.length','petal.width']"
      ],
      "execution_count": 15,
      "outputs": []
    },
    {
      "cell_type": "code",
      "metadata": {
        "id": "Pq6N199nk_9A"
      },
      "source": [
        "def entropy(target_col):\r\n",
        "    elements,counts = np.unique(target_col,return_counts = True)\r\n",
        "    entropy = np.sum([(-counts[i]/np.sum(counts))*np.log2(counts[i]/np.sum(counts)) for i in range(len(elements))])\r\n",
        "    return entropy\r\n",
        "def InfoGain(data,split_attribute_name,target_name=\"class\"):\r\n",
        "    total_entropy = entropy(data[target_name])\r\n",
        "    vals,counts= np.unique(data[split_attribute_name],return_counts=True)\r\n",
        "    Weighted_Entropy = np.sum([(counts[i]/np.sum(counts))*entropy(data.where(data[split_attribute_name]==vals[i]).dropna()[target_name]) for i in range(len(vals))])\r\n",
        "    Information_Gain = total_entropy - Weighted_Entropy\r\n",
        "    return Information_Gain"
      ],
      "execution_count": 16,
      "outputs": []
    },
    {
      "cell_type": "code",
      "metadata": {
        "colab": {
          "base_uri": "https://localhost:8080/"
        },
        "id": "rG896oj7RmKL",
        "outputId": "df77da6d-6c3f-4547-ca56-a52462bcb8c1"
      },
      "source": [
        "entropy(y)"
      ],
      "execution_count": 17,
      "outputs": [
        {
          "output_type": "execute_result",
          "data": {
            "text/plain": [
              "1.584962500721156"
            ]
          },
          "metadata": {
            "tags": []
          },
          "execution_count": 17
        }
      ]
    },
    {
      "cell_type": "code",
      "metadata": {
        "colab": {
          "base_uri": "https://localhost:8080/"
        },
        "id": "mVH9NAVvTyK4",
        "outputId": "3d1dce85-cf10-4371-9d7c-d769e9a8409d"
      },
      "source": [
        "df.iloc[:,:4].columns"
      ],
      "execution_count": null,
      "outputs": [
        {
          "output_type": "execute_result",
          "data": {
            "text/plain": [
              "Index(['sepal.length', 'sepal.width', 'petal.length', 'petal.width'], dtype='object')"
            ]
          },
          "metadata": {
            "tags": []
          },
          "execution_count": 14
        }
      ]
    },
    {
      "cell_type": "code",
      "metadata": {
        "colab": {
          "base_uri": "https://localhost:8080/"
        },
        "id": "KxxPly3ToYWN",
        "outputId": "1081bd2f-944f-4828-d269-000b93885363"
      },
      "source": [
        "def find_entropy(df):\r\n",
        "    Class = df.keys()[-1]   #To make the code generic, changing target variable class name\r\n",
        "    entropy = 0\r\n",
        "    values = df[Class].unique()\r\n",
        "    for value in values:\r\n",
        "        fraction = df[Class].value_counts()[value]/len(df[Class])\r\n",
        "        entropy += -fraction*np.log2(fraction)\r\n",
        "    return entropy\r\n",
        "find_entropy(df)"
      ],
      "execution_count": 18,
      "outputs": [
        {
          "output_type": "execute_result",
          "data": {
            "text/plain": [
              "1.584962500721156"
            ]
          },
          "metadata": {
            "tags": []
          },
          "execution_count": 18
        }
      ]
    },
    {
      "cell_type": "code",
      "metadata": {
        "id": "Z5hlpRmMoZjv"
      },
      "source": [
        "eps = np.finfo(float).eps\r\n",
        "from numpy import log2 as log\r\n",
        "def find_entropy_attribute(df,attribute):\r\n",
        "  Class = df.keys()[-1]   #To make the code generic, changing target variable class name\r\n",
        "  target_variables = df[Class].unique()  #This gives all 'Yes' and 'No'\r\n",
        "  variables = df[attribute].unique()    #This gives different features in that attribute (like 'Hot','Cold' in Temperature)\r\n",
        "  entropy2 = 0\r\n",
        "  for variable in variables:\r\n",
        "      entropy = 0\r\n",
        "      for target_variable in target_variables:\r\n",
        "          num = len(df[attribute][df[attribute]==variable][df[Class] ==target_variable])\r\n",
        "          den = len(df[attribute][df[attribute]==variable])\r\n",
        "          fraction = num/(den+eps)\r\n",
        "          entropy += -fraction*log(fraction+eps)\r\n",
        "      fraction2 = den/len(df)\r\n",
        "      entropy2 += -fraction2*entropy\r\n",
        "  return abs(entropy2)"
      ],
      "execution_count": 19,
      "outputs": []
    },
    {
      "cell_type": "code",
      "metadata": {
        "colab": {
          "base_uri": "https://localhost:8080/",
          "height": 35
        },
        "id": "kLcDQPOBnnFw",
        "outputId": "e97b0d03-5a80-4121-b598-92154ed37ccb"
      },
      "source": [
        "def find_winner(df):\r\n",
        "    Entropy_att = []\r\n",
        "    IG = []\r\n",
        "    for key in df.keys()[:-1]:\r\n",
        "#         Entropy_att.append(find_entropy_attribute(df,key))\r\n",
        "        IG.append(find_entropy(df)-find_entropy_attribute(df,key))\r\n",
        "    return df.keys()[:-1][np.argmax(IG)]\r\n",
        "find_winner(df)"
      ],
      "execution_count": 20,
      "outputs": [
        {
          "output_type": "execute_result",
          "data": {
            "application/vnd.google.colaboratory.intrinsic+json": {
              "type": "string"
            },
            "text/plain": [
              "'petal.length'"
            ]
          },
          "metadata": {
            "tags": []
          },
          "execution_count": 20
        }
      ]
    },
    {
      "cell_type": "code",
      "metadata": {
        "colab": {
          "base_uri": "https://localhost:8080/"
        },
        "id": "kPgcVVpBnm-x",
        "outputId": "2169ba1c-b7bb-4b5e-9677-031f18d57736"
      },
      "source": [
        "node = find_winner(df)\r\n",
        "value=5\r\n",
        "def get_subtable(df, node,value):\r\n",
        "  return df[df[node] == value].reset_index(drop=True)\r\n",
        "print(get_subtable(df,node,value))\r\n",
        "\r\n"
      ],
      "execution_count": 21,
      "outputs": [
        {
          "output_type": "stream",
          "text": [
            "   sepal.length  sepal.width  petal.length  petal.width     variety\n",
            "0           6.7          3.0           5.0          1.7  Versicolor\n",
            "1           5.7          2.5           5.0          2.0   Virginica\n",
            "2           6.0          2.2           5.0          1.5   Virginica\n",
            "3           6.3          2.5           5.0          1.9   Virginica\n"
          ],
          "name": "stdout"
        }
      ]
    },
    {
      "cell_type": "code",
      "metadata": {
        "id": "zUU8QvUbk_uR"
      },
      "source": [
        "#TREEE USING DICTIONARY\r\n",
        "from pprint import pprint\r\n",
        "def buildTree(df,tree=None): \r\n",
        "    Class = df.keys()[-1]   \r\n",
        "    node = find_winner(df)\r\n",
        "    attValue = np.unique(df[node])\r\n",
        "    if tree is None:                    \r\n",
        "        tree={}\r\n",
        "        tree[node] = {}\r\n",
        "    for value in attValue:\r\n",
        "        \r\n",
        "        subtable = get_subtable(df,node,value)\r\n",
        "        clValue,counts = np.unique(subtable[df.columns[-1]],return_counts=True)                        \r\n",
        "        \r\n",
        "        if len(counts)==1:\r\n",
        "            tree[node][value] = clValue[0]                                                    \r\n",
        "        else:        \r\n",
        "            tree[node][value] = buildTree(subtable)  \r\n",
        "                   \r\n",
        "    return tree"
      ],
      "execution_count": 22,
      "outputs": []
    },
    {
      "cell_type": "code",
      "metadata": {
        "colab": {
          "base_uri": "https://localhost:8080/"
        },
        "id": "-zUbmvW8VMn4",
        "outputId": "ad317f0b-7555-4900-9ce9-05b83d8b48d8"
      },
      "source": [
        "tree=buildTree(df)\r\n",
        "pprint(tree)"
      ],
      "execution_count": 23,
      "outputs": [
        {
          "output_type": "stream",
          "text": [
            "{'petal.length': {1.0: 'Setosa',\n",
            "                  1.1: 'Setosa',\n",
            "                  1.2: 'Setosa',\n",
            "                  1.3: 'Setosa',\n",
            "                  1.4: 'Setosa',\n",
            "                  1.5: 'Setosa',\n",
            "                  1.6: 'Setosa',\n",
            "                  1.7: 'Setosa',\n",
            "                  1.9: 'Setosa',\n",
            "                  3.0: 'Versicolor',\n",
            "                  3.3: 'Versicolor',\n",
            "                  3.5: 'Versicolor',\n",
            "                  3.6: 'Versicolor',\n",
            "                  3.7: 'Versicolor',\n",
            "                  3.8: 'Versicolor',\n",
            "                  3.9: 'Versicolor',\n",
            "                  4.0: 'Versicolor',\n",
            "                  4.1: 'Versicolor',\n",
            "                  4.2: 'Versicolor',\n",
            "                  4.3: 'Versicolor',\n",
            "                  4.4: 'Versicolor',\n",
            "                  4.5: {'sepal.length': {4.9: 'Virginica',\n",
            "                                         5.4: 'Versicolor',\n",
            "                                         5.6: 'Versicolor',\n",
            "                                         5.7: 'Versicolor',\n",
            "                                         6.0: 'Versicolor',\n",
            "                                         6.2: 'Versicolor',\n",
            "                                         6.4: 'Versicolor'}},\n",
            "                  4.6: 'Versicolor',\n",
            "                  4.7: 'Versicolor',\n",
            "                  4.8: {'sepal.length': {5.9: 'Versicolor',\n",
            "                                         6.0: 'Virginica',\n",
            "                                         6.2: 'Virginica',\n",
            "                                         6.8: 'Versicolor'}},\n",
            "                  4.9: {'sepal.width': {2.5: 'Versicolor',\n",
            "                                        2.7: 'Virginica',\n",
            "                                        2.8: 'Virginica',\n",
            "                                        3.0: 'Virginica',\n",
            "                                        3.1: 'Versicolor'}},\n",
            "                  5.0: {'sepal.length': {5.7: 'Virginica',\n",
            "                                         6.0: 'Virginica',\n",
            "                                         6.3: 'Virginica',\n",
            "                                         6.7: 'Versicolor'}},\n",
            "                  5.1: {'sepal.length': {5.8: 'Virginica',\n",
            "                                         5.9: 'Virginica',\n",
            "                                         6.0: 'Versicolor',\n",
            "                                         6.3: 'Virginica',\n",
            "                                         6.5: 'Virginica',\n",
            "                                         6.9: 'Virginica'}},\n",
            "                  5.2: 'Virginica',\n",
            "                  5.3: 'Virginica',\n",
            "                  5.4: 'Virginica',\n",
            "                  5.5: 'Virginica',\n",
            "                  5.6: 'Virginica',\n",
            "                  5.7: 'Virginica',\n",
            "                  5.8: 'Virginica',\n",
            "                  5.9: 'Virginica',\n",
            "                  6.0: 'Virginica',\n",
            "                  6.1: 'Virginica',\n",
            "                  6.3: 'Virginica',\n",
            "                  6.4: 'Virginica',\n",
            "                  6.6: 'Virginica',\n",
            "                  6.7: 'Virginica',\n",
            "                  6.9: 'Virginica'}}\n"
          ],
          "name": "stdout"
        }
      ]
    },
    {
      "cell_type": "code",
      "metadata": {
        "id": "9cgEaJs5_Wc6"
      },
      "source": [
        "#alternative\r\n",
        "def Entropy(ns):\r\n",
        "\tentropy = 0.0\r\n",
        "\ttotal = sum(ns)\r\n",
        "\tfor x in ns:\r\n",
        "\t\tentropy += -1.0*x/total*math.log(1.0*x/total,2)\r\n",
        "\treturn entropy"
      ],
      "execution_count": 24,
      "outputs": []
    },
    {
      "cell_type": "code",
      "metadata": {
        "id": "BgFrMJIbztkV",
        "colab": {
          "base_uri": "https://localhost:8080/"
        },
        "outputId": "45035034-c184-4976-8463-4c2ec574a0fc"
      },
      "source": [
        "numSamples=df.count(axis=0).sum()\r\n",
        "numSamples\r\n"
      ],
      "execution_count": 27,
      "outputs": [
        {
          "output_type": "execute_result",
          "data": {
            "text/plain": [
              "750"
            ]
          },
          "metadata": {
            "tags": []
          },
          "execution_count": 27
        }
      ]
    },
    {
      "cell_type": "code",
      "metadata": {
        "id": "OlT0Vmigzwv7"
      },
      "source": [
        "import math\r\n",
        "class C45:\r\n",
        "\r\n",
        "\t\"\"\"Creates a decision tree with C4.5 algorithm\"\"\"\r\n",
        "\tdef __init__(self, pathToData,pathToNames):\r\n",
        "\t\tself.filePathToData = pathToData\r\n",
        "\t\tself.filePathToNames = pathToNames\r\n",
        "\t\tself.data = []\r\n",
        "\t\tself.classes = []\r\n",
        "\t\tself.numAttributes = -1 \r\n",
        "\t\tself.attrValues = {}\r\n",
        "\t\tself.attributes = []\r\n",
        "\t\tself.tree = None\r\n",
        "    \r\n",
        "\r\n",
        "\tdef fetchData(self):\r\n",
        "\t\twith open(self.filePathToNames, \"r\") as file:\r\n",
        "\t\t\tclasses = file.readline()\r\n",
        "\t\t\tself.classes = [x.strip() for x in classes.split(\",\")]\r\n",
        "\t\t\t#add attributes\r\n",
        "\t\t\tfor line in file:\r\n",
        "\t\t\t\t[attribute, values] = [x.strip() for x in line.split(\":\")]\r\n",
        "\t\t\t\tvalues = [x.strip() for x in values.split(\",\")]\r\n",
        "\t\t\t\tself.attrValues[attribute] = values\r\n",
        "\t\tself.numAttributes = len(self.attrValues.keys())\r\n",
        "\t\tself.attributes = list(self.attrValues.keys())\r\n",
        "\t\twith open(self.filePathToData, \"r\") as file:\r\n",
        "\t\t\tfor line in file:\r\n",
        "\t\t\t\trow = [x.strip() for x in line.split(\",\")]\r\n",
        "\t\t\t\tif row != [] or row != [\"\"]:\r\n",
        "\t\t\t\t\tself.data.append(row)\r\n",
        "\r\n",
        "\tdef preprocessData(self):\r\n",
        "\t\tfor index,row in enumerate(self.data):\r\n",
        "\t\t\tfor attr_index in range(self.numAttributes):\r\n",
        "\t\t\t\tif(not self.isAttrDiscrete(self.attributes[attr_index])):\r\n",
        "\t\t\t\t\tself.data[index][attr_index] = float(self.data[index][attr_index])\r\n",
        "\r\n",
        "\tdef printTree(self):\r\n",
        "\t\tprint(self.printNode(self.tree))\r\n",
        "\r\n",
        "\tdef printNode(self, node, indent=\"\"):\r\n",
        "\t\tif not node.isLeaf:\r\n",
        "\t\t\tif node.threshold is None:\r\n",
        "\t\t\t\t#discrete\r\n",
        "\t\t\t\tfor index,child in enumerate(node.children):\r\n",
        "\t\t\t\t\tif child.isLeaf:\r\n",
        "\t\t\t\t\t\tprint(indent + node.label + \" = \" + attributes[index] + \" : \" + child.label)\r\n",
        "\t\t\t\t\telse:\r\n",
        "\t\t\t\t\t\tprint(indent + node.label + \" = \" + attributes[index] + \" : \")\r\n",
        "\t\t\t\t\t\tself.printNode(child, indent + \"\t\")\r\n",
        "\t\t\telse:\r\n",
        "\t\t\t\t#numerical\r\n",
        "\t\t\t\tleftChild = node.children[0]\r\n",
        "\t\t\t\trightChild = node.children[1]\r\n",
        "\t\t\t\tif leftChild.isLeaf:\r\n",
        "\t\t\t\t\tprint(indent + node.label + \" <= \" + str(node.threshold) + \" : \" + leftChild.label)\r\n",
        "\t\t\t\telse:\r\n",
        "\t\t\t\t\tprint(indent + node.label + \" <= \" + str(node.threshold)+\" : \")\r\n",
        "\t\t\t\t\tself.printNode(leftChild, indent + \"\t\")\r\n",
        "\r\n",
        "\t\t\t\tif rightChild.isLeaf:\r\n",
        "\t\t\t\t\tprint(indent + node.label + \" > \" + str(node.threshold) + \" : \" + rightChild.label)\r\n",
        "\t\t\t\telse:\r\n",
        "\t\t\t\t\tprint(indent + node.label + \" > \" + str(node.threshold) + \" : \")\r\n",
        "\t\t\t\t\tself.printNode(rightChild , indent + \"\t\")\r\n",
        "\r\n",
        "\r\n",
        "\r\n",
        "\tdef generateTree(self):\r\n",
        "\t\tself.tree = self.recursiveGenerateTree(self.data, self.attributes)\r\n",
        "\r\n",
        "\tdef recursiveGenerateTree(self, curData, curAttributes):\r\n",
        "\t\tallSame = self.allSameClass(curData)\r\n",
        "\r\n",
        "\t\tif len(curData) == 0:\r\n",
        "\t\t\t#Fail\r\n",
        "\t\t\treturn Node(True, \"Fail\", None)\r\n",
        "\t\telif allSame is not False:\r\n",
        "\t\t\t#return a node with that class\r\n",
        "\t\t\treturn Node(True, allSame, None)\r\n",
        "\t\telif len(curAttributes) == 0:\r\n",
        "\t\t\t#return a node with the majority class\r\n",
        "\t\t\tmajClass = self.getMajClass(curData)\r\n",
        "\t\t\treturn Node(True, majClass, None)\r\n",
        "\t\telse:\r\n",
        "\t\t\t(best,best_threshold,splitted) = self.splitAttribute(curData, curAttributes)\r\n",
        "\t\t\tremainingAttributes = curAttributes[:]\r\n",
        "\t\t\tremainingAttributes.remove(best)\r\n",
        "\t\t\tnode = Node(False, best, best_threshold)\r\n",
        "\t\t\tnode.children = [self.recursiveGenerateTree(subset, remainingAttributes) for subset in splitted]\r\n",
        "\t\t\treturn node\r\n",
        "\r\n",
        "\tdef getMajClass(self, curData):\r\n",
        "\t\tfreq = [0]*len(self.classes)\r\n",
        "\t\tfor row in curData:\r\n",
        "\t\t\tindex = self.classes.index(row[-1])\r\n",
        "\t\t\tfreq[index] += 1\r\n",
        "\t\tmaxInd = (freq.index(max(freq)))\r\n",
        "\t\treturn self.classes[maxInd]\r\n",
        "\r\n",
        "\r\n",
        "\tdef allSameClass(self, data):\r\n",
        "\t\tfor row in data:\r\n",
        "\t\t\tif row[-1] != data[0][-1]:\r\n",
        "\t\t\t\treturn False\r\n",
        "\t\treturn data[0][-1]\r\n",
        "\r\n",
        "\tdef isAttrDiscrete(self, attribute):\r\n",
        "\t\tif attribute not in self.attributes:\r\n",
        "\t\t\traise ValueError(\"Attribute not listed\")\r\n",
        "\t\telif len(self.attrValues[attribute]) == 1 and self.attrValues[attribute][0] == \"continuous\":\r\n",
        "\t\t\treturn False\r\n",
        "\t\telse:\r\n",
        "\t\t\treturn True\r\n",
        "\r\n",
        "\tdef splitAttribute(self, curData, curAttributes):\r\n",
        "\t\tsplitted = []\r\n",
        "\t\tmaxEnt = -1*float(\"inf\")\r\n",
        "\t\tbest_attribute = -1\r\n",
        "\t\t#None for discrete attributes, threshold value for continuous attributes\r\n",
        "\t\tbest_threshold = None\r\n",
        "\t\tfor attribute in curAttributes:\r\n",
        "\t\t\tindexOfAttribute = self.attributes.index(attribute)\r\n",
        "\t\t\tif self.isAttrDiscrete(attribute):\r\n",
        "\t\t\t\t#split curData into n-subsets, where n is the number of \r\n",
        "\t\t\t\t#different values of attribute i. Choose the attribute with\r\n",
        "\t\t\t\t#the max gain\r\n",
        "\t\t\t\tvaluesForAttribute = self.attrValues[attribute]\r\n",
        "\t\t\t\tsubsets = [[] for a in valuesForAttribute]\r\n",
        "\t\t\t\tfor row in curData:\r\n",
        "\t\t\t\t\tfor index in range(len(valuesForAttribute)):\r\n",
        "\t\t\t\t\t\tif row[i] == valuesForAttribute[index]:\r\n",
        "\t\t\t\t\t\t\tsubsets[index].append(row)\r\n",
        "\t\t\t\t\t\t\tbreak\r\n",
        "\t\t\t\te = gain(curData, subsets)\r\n",
        "\t\t\t\tif e > maxEnt:\r\n",
        "\t\t\t\t\tmaxEnt = e\r\n",
        "\t\t\t\t\tsplitted = subsets\r\n",
        "\t\t\t\t\tbest_attribute = attribute\r\n",
        "\t\t\t\t\tbest_threshold = None\r\n",
        "\t\t\telse:\r\n",
        "\t\t\t\t#sort the data according to the column.Then try all \r\n",
        "\t\t\t\t#possible adjacent pairs. Choose the one that \r\n",
        "\t\t\t\t#yields maximum gain\r\n",
        "\t\t\t\tcurData.sort(key = lambda x: x[indexOfAttribute])\r\n",
        "\t\t\t\tfor j in range(0, len(curData) - 1):\r\n",
        "\t\t\t\t\tif curData[j][indexOfAttribute] != curData[j+1][indexOfAttribute]:\r\n",
        "\t\t\t\t\t\tthreshold = (curData[j][indexOfAttribute] + curData[j+1][indexOfAttribute]) / 2\r\n",
        "\t\t\t\t\t\tless = []\r\n",
        "\t\t\t\t\t\tgreater = []\r\n",
        "\t\t\t\t\t\tfor row in curData:\r\n",
        "\t\t\t\t\t\t\tif(row[indexOfAttribute] > threshold):\r\n",
        "\t\t\t\t\t\t\t\tgreater.append(row)\r\n",
        "\t\t\t\t\t\t\telse:\r\n",
        "\t\t\t\t\t\t\t\tless.append(row)\r\n",
        "\t\t\t\t\t\te = self.gain(curData, [less, greater])\r\n",
        "\t\t\t\t\t\tif e >= maxEnt:\r\n",
        "\t\t\t\t\t\t\tsplitted = [less, greater]\r\n",
        "\t\t\t\t\t\t\tmaxEnt = e\r\n",
        "\t\t\t\t\t\t\tbest_attribute = attribute\r\n",
        "\t\t\t\t\t\t\tbest_threshold = threshold\r\n",
        "\t\treturn (best_attribute,best_threshold,splitted)\r\n",
        "\r\n",
        "\tdef gain(self,unionSet, subsets):\r\n",
        "\t\t#input : data and disjoint subsets of it\r\n",
        "\t\t#output : information gain\r\n",
        "\t\tS = len(unionSet)\r\n",
        "\t\t#calculate impurity before split\r\n",
        "\t\timpurityBeforeSplit = self.entropy(unionSet)\r\n",
        "\t\t#calculate impurity after split\r\n",
        "\t\tweights = [len(subset)/S for subset in subsets]\r\n",
        "\t\timpurityAfterSplit = 0\r\n",
        "\t\tfor i in range(len(subsets)):\r\n",
        "\t\t\timpurityAfterSplit += weights[i]*self.entropy(subsets[i])\r\n",
        "\t\t#calculate total gain\r\n",
        "\t\ttotalGain = impurityBeforeSplit - impurityAfterSplit\r\n",
        "\t\treturn totalGain\r\n",
        "\r\n",
        "\tdef entropy(self, dataSet):\r\n",
        "\t\tS = len(dataSet)\r\n",
        "\t\tif S == 0:\r\n",
        "\t\t\treturn 0\r\n",
        "\t\tnum_classes = [0 for i in self.classes]\r\n",
        "\t\tfor row in dataSet:\r\n",
        "\t\t\tclassIndex = list(self.classes).index(row[-1])\r\n",
        "\t\t\tnum_classes[classIndex] += 1\r\n",
        "\t\tnum_classes = [x/S for x in num_classes]\r\n",
        "\t\tent = 0\r\n",
        "\t\tfor num in num_classes:\r\n",
        "\t\t\tent += num*self.log(num)\r\n",
        "\t\treturn ent*-1\r\n",
        "\r\n",
        "\r\n",
        "\tdef log(self, x):\r\n",
        "\t\tif x == 0:\r\n",
        "\t\t\treturn 0\r\n",
        "\t\telse:\r\n",
        "\t\t\treturn math.log(x,2)\r\n",
        "\r\n",
        "class Node:\r\n",
        "\tdef __init__(self,isLeaf, label, threshold):\r\n",
        "\t\tself.label = label\r\n",
        "\t\tself.threshold = threshold\r\n",
        "\t\tself.isLeaf = isLeaf\r\n",
        "\t\tself.children = []\r\n"
      ],
      "execution_count": 29,
      "outputs": []
    },
    {
      "cell_type": "code",
      "metadata": {
        "colab": {
          "base_uri": "https://localhost:8080/"
        },
        "id": "XT2UWxUdi1RG",
        "outputId": "e00ae491-e712-447f-8d38-a634c13a45f4"
      },
      "source": [
        "import pdb\r\n",
        "c1 = C45(\"/content/iris.data\", \"/content/iris.names\")\r\n",
        "c1.fetchData()\r\n",
        "c1.preprocessData()\r\n",
        "#b=c1.recursiveGenerateTree(c1.data,c1.attributes)\r\n",
        "#c=c1.printTree()\r\n",
        "#c1.generateTree()\r\n",
        "#c1.getMajClass(c1.data)\r\n",
        "#c1.printNode(b)\r\n",
        "c1.allSameClass(c1.data)\r\n",
        "#c1.isAttrDiscrete(c1.attributes)\r\n",
        "c1.splitAttribute(c1.data,c1.attributes)\r\n",
        "x=c1.splitAttribute(c1.data,c1.attributes)[2]\r\n",
        "gain=c1.gain(c1.data,x)\r\n",
        "print(gain)"
      ],
      "execution_count": 30,
      "outputs": [
        {
          "output_type": "stream",
          "text": [
            "0.9182958340544894\n"
          ],
          "name": "stdout"
        }
      ]
    },
    {
      "cell_type": "code",
      "metadata": {
        "id": "8_dFHIXnKfbp",
        "colab": {
          "base_uri": "https://localhost:8080/"
        },
        "outputId": "c009fda5-37a4-42f9-fe07-67d44290fb87"
      },
      "source": [
        "def _find_splits(X, column):\r\n",
        "    \"\"\"\r\n",
        "    find all possible split values (threshold),\r\n",
        "    by getting unique values in a sorted order\r\n",
        "    and finding cutoff point (average) between every two values\r\n",
        "    \"\"\"\r\n",
        "    X_unique = np.unique(X[:, column])\r\n",
        "    split_values = np.empty(X_unique.shape[0] - 1)\r\n",
        "    for i in range(1, X_unique.shape[0]):\r\n",
        "        average = (X_unique[i - 1] + X_unique[i]) / 2\r\n",
        "        split_values[i - 1] = average\r\n",
        "\r\n",
        "    return split_values\r\n",
        "def _compute_entropy(split):\r\n",
        "    \"\"\"entropy score using a fix log base 2\"\"\"\r\n",
        "    _, counts = np.unique(split, return_counts = True)\r\n",
        "    p = counts / split.shape[0]\r\n",
        "    entropy = -np.sum(p * np.log2(p))\r\n",
        "    return entropy\r\n",
        "  \r\n",
        "def _compute_splits_entropy(y, splits):\r\n",
        "    \"\"\"compute the entropy for the splits (the two child nodes)\"\"\"\r\n",
        "    splits_entropy = 0\r\n",
        "    for split in splits:\r\n",
        "        splits_entropy += (split.shape[0] / y.shape[0]) * _compute_entropy(split)\r\n",
        "\r\n",
        "    return splits_entropy\r\n",
        "\r\n",
        "def _split(X, y, column, value, return_X = True):\r\n",
        "    \"\"\"split the response column using the cutoff threshold\"\"\"\r\n",
        "    left_mask = X[:, column] <= value\r\n",
        "    right_mask = X[:, column] > value\r\n",
        "    left_y, right_y = y[left_mask], y[right_mask]\r\n",
        "\r\n",
        "    if not return_X:\r\n",
        "        return left_y, right_y\r\n",
        "    else:\r\n",
        "        left_X, right_X = X[left_mask], X[right_mask]\r\n",
        "        return left_X, right_X, left_y, right_y\r\n",
        "\r\n",
        "\r\n",
        "parent_entropy = _compute_entropy(y_train)\r\n",
        "max_features = None\r\n",
        "if max_features is None or max_features > X_train.shape[1]:\r\n",
        "   max_features = X_train.shape[1]\r\n",
        "subset = np.random.choice(X_train.shape[1], max_features, replace = False)\r\n",
        "for column in subset:\r\n",
        "  split_values = _find_splits(X_train, column)\r\n",
        "  ct_gain=[]\r\n",
        "  for value in split_values:\r\n",
        "    splits = _split(X_train, y_train, column, value, return_X = False)\r\n",
        "    gain = parent_entropy - _compute_splits_entropy(y_train, splits)\r\n",
        "    ct_gain.append(gain)\r\n",
        "print(_compute_splits_entropy(y_train, splits))\r\n",
        "\r\n",
        "\r\n",
        "\r\n",
        "\r\n",
        "\r\n"
      ],
      "execution_count": 31,
      "outputs": [
        {
          "output_type": "stream",
          "text": [
            "1.567674341415934\n"
          ],
          "name": "stdout"
        }
      ]
    },
    {
      "cell_type": "code",
      "metadata": {
        "colab": {
          "base_uri": "https://localhost:8080/"
        },
        "id": "AIiqLqNdfeqF",
        "outputId": "d2fe75c3-97d4-4b45-a1b9-cfa80bfe92cc"
      },
      "source": [
        "for i in ct_gain:\r\n",
        "  max_gain=i\r\n",
        "  if max_gain<i:\r\n",
        "    max_gain=i\r\n",
        "  else:\r\n",
        "    max_gain=max_gain\r\n",
        "print(max_gain)"
      ],
      "execution_count": 36,
      "outputs": [
        {
          "output_type": "stream",
          "text": [
            "0.013045372426276014\n"
          ],
          "name": "stdout"
        }
      ]
    },
    {
      "cell_type": "code",
      "metadata": {
        "colab": {
          "base_uri": "https://localhost:8080/"
        },
        "id": "Lk4fchyheJtG",
        "outputId": "533cca40-ebfa-4df0-bfde-763d552d41e2"
      },
      "source": [
        "GAIN_RATIO=max/_compute_splits_entropy(y_train, splits)\r\n",
        "GAIN_RATIO"
      ],
      "execution_count": 37,
      "outputs": [
        {
          "output_type": "execute_result",
          "data": {
            "text/plain": [
              "0.00832148111481709"
            ]
          },
          "metadata": {
            "tags": []
          },
          "execution_count": 37
        }
      ]
    },
    {
      "cell_type": "code",
      "metadata": {
        "colab": {
          "base_uri": "https://localhost:8080/"
        },
        "id": "aYh_aA9yu50P",
        "outputId": "ef6223de-7150-4195-b141-dbc54a8739da"
      },
      "source": [
        "from sklearn.tree import DecisionTreeClassifier\r\n",
        "classifier = DecisionTreeClassifier(criterion = 'entropy', random_state = 0)\r\n",
        "classifier.fit(X_train, y_train)\r\n",
        "\r\n",
        "# Predicting the Test set results\r\n",
        "y_pred = classifier.predict(X_test)\r\n",
        "\r\n",
        "# Making the Confusion Matrix\r\n",
        "from sklearn.metrics import confusion_matrix\r\n",
        "cm = confusion_matrix(y_test, y_pred)\r\n",
        "\r\n",
        "cm"
      ],
      "execution_count": 38,
      "outputs": [
        {
          "output_type": "execute_result",
          "data": {
            "text/plain": [
              "array([[13,  0,  0],\n",
              "       [ 0, 15,  1],\n",
              "       [ 0,  0,  9]])"
            ]
          },
          "metadata": {
            "tags": []
          },
          "execution_count": 38
        }
      ]
    },
    {
      "cell_type": "code",
      "metadata": {
        "colab": {
          "base_uri": "https://localhost:8080/"
        },
        "id": "7kk_BZ7u8vkF",
        "outputId": "9c79ff31-cb31-41fb-9e77-9f6f41c007c8"
      },
      "source": [
        "#print('classification distribution: ', np.bincount(y_pred))\r\n",
        "from sklearn.model_selection import cross_val_score\r\n",
        "scores = cross_val_score(classifier, X_train, y_train, cv=10)\r\n",
        "\r\n",
        "#Train score\r\n",
        "print(f'model accuracy on train set: {classifier.score(X_train, y_train)}')\r\n",
        "#Test score\r\n",
        "print(f'model accuracy on test set: {classifier.score(X_test, y_test)}')\r\n"
      ],
      "execution_count": 39,
      "outputs": [
        {
          "output_type": "stream",
          "text": [
            "model accuracy on train set: 1.0\n",
            "model accuracy on test set: 0.9736842105263158\n"
          ],
          "name": "stdout"
        }
      ]
    },
    {
      "cell_type": "code",
      "metadata": {
        "id": "S2fA6M6nBnL5",
        "colab": {
          "base_uri": "https://localhost:8080/",
          "height": 567
        },
        "outputId": "d0080471-45af-4ff2-dfd4-8b7352035c1f"
      },
      "source": [
        "#Apply the decision tree classifier model to the data using all four parameters at once.\r\n",
        "from sklearn.tree import DecisionTreeClassifier, plot_tree\r\n",
        "model_all_params = DecisionTreeClassifier().fit(X_train,y_train)\r\n",
        "# Prepare a plot figure with set size.\r\n",
        "plt.figure(figsize = (20,10))\r\n",
        "# Plot the decision tree, showing the decisive values and the improvements in Gini impurity along the way.\r\n",
        "plot_tree(model_all_params, \r\n",
        "          filled=True      )\r\n",
        "# Display the tree plot figure.\r\n",
        "plt.show()"
      ],
      "execution_count": 40,
      "outputs": [
        {
          "output_type": "display_data",
          "data": {
            "image/png": "[encoded data removed]",
            "text/plain": [
              "<Figure size 1440x720 with 1 Axes>"
            ]
          },
          "metadata": {
            "tags": [],
            "needs_background": "light"
          }
        }
      ]
    }
  ]
}